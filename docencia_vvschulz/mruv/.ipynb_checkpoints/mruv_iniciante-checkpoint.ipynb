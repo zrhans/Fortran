{
 "cells": [
  {
   "cell_type": "markdown",
   "id": "ceb4facb",
   "metadata": {},
   "source": [
    "# Movimento Retilineo Uniformemente Variado (MRUV)\n",
    "\n",
    "É o movimento no qual a velocidade varia em relação ao tempo de modo uniforme, ou seja, possui uma aceleração não nula e constante. Por exemplo, se temos uma aceleração de$$ a(t) = 50 m/s^2 $$para qualquer valor de t, a velocidade é a mesma $50 m/s$. \n",
    "\n",
    "Integrando essa equação duas vezes obtemos:\n",
    "$$ \\begin{equation*}a = 50 m/s^2\\end{equation*} $$\n",
    "$$ \\begin{equation*}v(t) = v_0 + (50 m/s^2) t = v_0 + a t \\end{equation*} $$ \n",
    "$$ \\begin{equation*}s(t) = s_0 + v_0t + (50 m/s^2) t^2/2 = s_0 + v_0t + a t^2/2 \\end{equation*} $$\n",
    "\n",
    "Na segunda equação podemos utilizar somente valores de velocidades, enquanto que na terceira podemos utilizar valores de posições e velocidades para realizar cálculos.\n",
    "\n",
    "Conhecer essas equações consiste em, a partir de uma aceleração não nula $a (m/s^2)$, ser capaz de calcular posições, velocidades e tempos iniciais e finais."
   ]
  },
  {
   "cell_type": "markdown",
   "id": "14c28830",
   "metadata": {},
   "source": [
    "[Leitura adicional](https://webfisica.com/laravel/public/fisica/curso-de-fisica-basica/aula/1-5)"
   ]
  },
  {
   "cell_type": "markdown",
   "id": "17cb8a85",
   "metadata": {},
   "source": [
    "__Exercício 1 :__\n",
    "\n",
    "Um carro que trafegava a __v0 = 108 km/h__ ficou sem freio em uma rua horizontal. O motorista percebeu e resolveu parar o veículo. Sabendo que ele levou __t = 30 segundos__ para parar totalmente utilizando apenas o freio de mão (Pense o seguinte: se o carro para, a velocidade __v1 = 0 m/s__)\n",
    "\n",
    "* (1) Implemente a equação da __velocidade__ e calcule a __desaceleração__ proporcionada pelo freio de mão.\n",
    "* (2) Implemente a equação da __posição__ e calcule a __distância percorrida__ até parar.\n",
    "\n",
    "(Dica): Utilize o próprio Fortran para realizar a mudança de km/h para m/s.\n",
    "\n",
    "* __Desafio:__ Tente gerar um programa que sirva para responder ambas as questões."
   ]
  },
  {
   "cell_type": "code",
   "execution_count": 1,
   "id": "ecbee2b8",
   "metadata": {},
   "outputs": [],
   "source": [
    "! \"Inserir valores v0(km/h) v1(m/s) t(s) :\"\n",
    "real:: v0, v1, t, a\n",
    "! Coloque as variáveis do problema\n",
    "v0=\n",
    "v1=\n",
    "t="
   ]
  },
  {
   "cell_type": "markdown",
   "id": "22b8679d",
   "metadata": {},
   "source": [
    "##### Dica: As equações são\n",
    "$$ \\text{v0} = \\frac{\\text{v0}}{3.6}\\quad\\quad\\quad\\rightarrow \\quad\\text{Para fazer a mudança de variável.}\n",
    "$$"
   ]
  },
  {
   "cell_type": "markdown",
   "id": "07cf0869",
   "metadata": {},
   "source": [
    "$$ \\text{a} = \\frac{\\text{v1}-\\text{v0}}{t}\\quad\\quad\\quad\\rightarrow \\quad\\text{Para calcular a aceleração.}\n",
    "$$"
   ]
  },
  {
   "cell_type": "code",
   "execution_count": 2,
   "id": "f4083c16",
   "metadata": {},
   "outputs": [
    {
     "name": "stdout",
     "output_type": "stream",
     "text": [
      " A aceleração é a = -1.000000 m/s\n"
     ]
    }
   ],
   "source": [
    "! seu código vai entre as linhas ---\n",
    "!----------------------------------------\n",
    "v0 = v0/3.6\n",
    "a=?\n",
    "!----------------------------------------\n",
    "print *, \" A aceleração é a =\", a, \"m/s\"\n",
    "\n"
   ]
  },
  {
   "cell_type": "markdown",
   "id": "8c9879dd",
   "metadata": {},
   "source": [
    "##### resposta (1)"
   ]
  },
  {
   "cell_type": "code",
   "execution_count": 1,
   "id": "5bc98c67",
   "metadata": {},
   "outputs": [],
   "source": [
    "! \"Inserir valores v0(km/h) v1(m/s) t(s) :\"\n",
    "real:: v0, v1, t, a\n",
    "! Coloque as variáveis do problema\n",
    "v0=108\n",
    "v1=0\n",
    "t=30"
   ]
  },
  {
   "cell_type": "markdown",
   "id": "4ef5b049",
   "metadata": {},
   "source": [
    "##### As equações são\n",
    "$$ \\text{v0} = \\frac{\\text{v0}}{3.6}\\quad\\quad\\quad\\rightarrow \\text{Para fazer a mudança de variável.}\n",
    "$$"
   ]
  },
  {
   "cell_type": "markdown",
   "id": "62a63562",
   "metadata": {},
   "source": [
    "$$ \\text{a} = \\frac{\\text{v1}-\\text{v0}}{t}\\quad\\quad\\quad\\rightarrow \\text{Para fazer a mudança de variável.}\n",
    "$$"
   ]
  },
  {
   "cell_type": "code",
   "execution_count": 2,
   "id": "36f6c0a2",
   "metadata": {},
   "outputs": [
    {
     "name": "stdout",
     "output_type": "stream",
     "text": [
      " A aceleração é a = -1.000000 m/s\n"
     ]
    }
   ],
   "source": [
    "\n",
    "! Partindo dessa equação v1 = v0 + a*t\n",
    "! isolamos 'a' para ser calculada.\n",
    "! seu código vai entre as linhas ---\n",
    "!----------------------------------------\n",
    "\n",
    "v0 = v0/3.6\n",
    "a = (v1-v0)/t\n",
    "!----------------------------------------\n",
    "print *, \" A aceleração é a =\", a, \"m/s\"\n",
    "\n"
   ]
  },
  {
   "cell_type": "code",
   "execution_count": 1,
   "id": "966ee63e",
   "metadata": {},
   "outputs": [],
   "source": [
    "! \"Inserir valores v0(km/h) v1(m/s) t(s) :\"\n",
    "real:: v0, v1, t, a\n",
    "! Coloque as variáveis do problema\n",
    "v0=108\n",
    "v1=0\n",
    "t=30"
   ]
  },
  {
   "cell_type": "markdown",
   "id": "b5a77bfa",
   "metadata": {},
   "source": [
    "##### As equações são\n",
    "$$ \\text{v0} = \\frac{\\text{v0}}{3.6}\\quad\\quad\\quad\\rightarrow \\text{Para fazer a mudança de variável.}\n",
    "$$"
   ]
  },
  {
   "cell_type": "markdown",
   "id": "ca8cb1a9",
   "metadata": {},
   "source": [
    "$$ \\text{a} = \\frac{\\text{v1}-\\text{v0}}{t}\\quad\\quad\\quad\\rightarrow \\text{Para fazer a mudança de variável.}\n",
    "$$"
   ]
  },
  {
   "cell_type": "code",
   "execution_count": 2,
   "id": "a48dc0e4",
   "metadata": {},
   "outputs": [
    {
     "name": "stdout",
     "output_type": "stream",
     "text": [
      " A aceleração é a = -1.000000 m/s\n"
     ]
    }
   ],
   "source": [
    "\n",
    "! Partindo dessa equação v1 = v0 + a*t\n",
    "! isolamos 'a' para ser calculada.\n",
    "! seu código vai entre as linhas ---\n",
    "!----------------------------------------\n",
    "\n",
    "v0 = v0/3.6\n",
    "a = (v1-v0)/t\n",
    "!----------------------------------------\n",
    "print *, \" A aceleração é a =\", a, \"m/s\"\n",
    "\n"
   ]
  },
  {
   "cell_type": "code",
   "execution_count": 4,
   "id": "1aa8e723",
   "metadata": {
    "scrolled": true
   },
   "outputs": [
    {
     "name": "stdout",
     "output_type": "stream",
     "text": [
      "não funciona a função read(*,*), diz que ainda não foi implementado\n"
     ]
    }
   ],
   "source": [
    "print *, \"não funciona a função read(*,*), diz que ainda não foi implementado\""
   ]
  },
  {
   "cell_type": "markdown",
   "id": "2b27a6d8",
   "metadata": {},
   "source": [
    "### Serve para tutoriais mais básicos"
   ]
  },
  {
   "cell_type": "code",
   "execution_count": 5,
   "id": "1c4458d0",
   "metadata": {},
   "outputs": [],
   "source": [
    "! exemplo de função\n",
    "module b\n",
    "implicit none\n",
    "private\n",
    "public g\n",
    "\n",
    "contains\n",
    "\n",
    "integer function g()\n",
    "g = 5\n",
    "end function\n",
    "\n",
    "end module"
   ]
  },
  {
   "cell_type": "code",
   "execution_count": 6,
   "id": "8587d9a4",
   "metadata": {},
   "outputs": [],
   "source": [
    "program simple_print\n",
    "    print *,'This Fortran program just prints a line.'\n",
    "end program simple_print"
   ]
  },
  {
   "cell_type": "code",
   "execution_count": null,
   "id": "a9694d74",
   "metadata": {},
   "outputs": [],
   "source": []
  },
  {
   "cell_type": "code",
   "execution_count": null,
   "id": "02154aff",
   "metadata": {},
   "outputs": [],
   "source": []
  },
  {
   "cell_type": "code",
   "execution_count": null,
   "id": "140979b2",
   "metadata": {},
   "outputs": [],
   "source": []
  },
  {
   "cell_type": "code",
   "execution_count": null,
   "id": "939aa12b",
   "metadata": {},
   "outputs": [],
   "source": []
  },
  {
   "cell_type": "code",
   "execution_count": null,
   "id": "5efb2ae3",
   "metadata": {},
   "outputs": [],
   "source": []
  },
  {
   "cell_type": "code",
   "execution_count": null,
   "id": "eeb003c3",
   "metadata": {},
   "outputs": [],
   "source": []
  },
  {
   "cell_type": "code",
   "execution_count": null,
   "id": "ced67b5b",
   "metadata": {},
   "outputs": [],
   "source": []
  },
  {
   "cell_type": "code",
   "execution_count": null,
   "id": "7e8ab868",
   "metadata": {},
   "outputs": [],
   "source": []
  },
  {
   "cell_type": "code",
   "execution_count": null,
   "id": "1ae742a9",
   "metadata": {},
   "outputs": [],
   "source": []
  },
  {
   "cell_type": "code",
   "execution_count": null,
   "id": "0538e6b7",
   "metadata": {},
   "outputs": [],
   "source": []
  },
  {
   "cell_type": "code",
   "execution_count": null,
   "id": "d54ecc2f",
   "metadata": {},
   "outputs": [],
   "source": []
  },
  {
   "cell_type": "code",
   "execution_count": null,
   "id": "ab953727",
   "metadata": {},
   "outputs": [],
   "source": []
  },
  {
   "cell_type": "code",
   "execution_count": null,
   "id": "8c4d14fa",
   "metadata": {},
   "outputs": [],
   "source": []
  },
  {
   "cell_type": "code",
   "execution_count": null,
   "id": "b9103199",
   "metadata": {},
   "outputs": [],
   "source": []
  },
  {
   "cell_type": "code",
   "execution_count": null,
   "id": "6ae6f483",
   "metadata": {},
   "outputs": [],
   "source": []
  },
  {
   "cell_type": "code",
   "execution_count": null,
   "id": "ec8c9098",
   "metadata": {},
   "outputs": [],
   "source": []
  },
  {
   "cell_type": "code",
   "execution_count": null,
   "id": "bc90040d",
   "metadata": {},
   "outputs": [],
   "source": []
  },
  {
   "cell_type": "code",
   "execution_count": null,
   "id": "d983425b",
   "metadata": {},
   "outputs": [],
   "source": []
  },
  {
   "cell_type": "code",
   "execution_count": null,
   "id": "c7411174",
   "metadata": {},
   "outputs": [],
   "source": []
  },
  {
   "cell_type": "code",
   "execution_count": null,
   "id": "bc512751",
   "metadata": {},
   "outputs": [],
   "source": []
  },
  {
   "cell_type": "code",
   "execution_count": null,
   "id": "5d6298d4",
   "metadata": {},
   "outputs": [],
   "source": []
  },
  {
   "cell_type": "code",
   "execution_count": null,
   "id": "39605f62",
   "metadata": {},
   "outputs": [],
   "source": []
  }
 ],
 "metadata": {
  "kernelspec": {
   "display_name": "Fortran",
   "language": "fortran",
   "name": "fortran"
  },
  "language_info": {
   "file_extension": ".f90",
   "mimetype": "text/x-fortran",
   "name": "fortran",
   "version": "2018"
  }
 },
 "nbformat": 4,
 "nbformat_minor": 5
}
