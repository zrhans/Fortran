{
 "cells": [
  {
   "attachments": {},
   "cell_type": "markdown",
   "metadata": {},
   "source": [
    "# Noções de estatística\n",
    "## Média, variância e desvio padrão"
   ]
  },
  {
   "attachments": {},
   "cell_type": "markdown",
   "metadata": {},
   "source": [
    "Imagine que João e Maria fizeram cinco atividades que valiam nota nas aulas de matemática. As notas foram: \n",
    "\n",
    "| Nome | Avaliação1 | Avaliação2 | Avaliação3 | Avaliação4 | Avaliação5 |\n",
    "| :----: | :---: | :-------: | :-------: | :-------: | :-------: |\n",
    "| Joao | 9     | 7     | 5     | 3 | 2 |\n",
    "| Maria | 4 | 8 | 9 | 10 | 4 |"
   ]
  },
  {
   "attachments": {},
   "cell_type": "markdown",
   "metadata": {},
   "source": [
    "### Média Aritmética (M)\n",
    "A primeira estatística pensada sobre uma lista de números é a média aritmética, ou simplesmente média.\n",
    "Os cálculos das notas médias M são: $$M(\\text{Joao}) = \\frac{(9+7+5+3+2)}{5} = 5.2$$\n",
    "$$M(\\text{Maria}) = \\frac{(4+8+9+10+4)}{5} = 7$$\n",
    "Note que as médias não são iguais a nenhuma das notas que eles tiraram."
   ]
  },
  {
   "attachments": {},
   "cell_type": "markdown",
   "metadata": {},
   "source": [
    "A média é a razão da soma das notas pelo número de avaliações, sendo assim, a função da média é $$\\boxed{M = \\frac{\\text{soma dos valores}}{\\text{quantidades de valores}}}$$\n"
   ]
  },
  {
   "attachments": {},
   "cell_type": "markdown",
   "metadata": {},
   "source": [
    "### Desvio (D)\n",
    "\n",
    "Muitas vezes, a média não é suficiente para avaliar um conjunto de dados. Para fazer uma análise específica e mais rigorosa de cada aluno, podemos criar uma tabela para cada aluno e calcular o Desvio (D), ou seja, qual é a __diferença entre a nota e a nota média__.\n",
    "\n",
    "$$D = \\text{Nota do teste}-M $$\n",
    "\n",
    "E com isso calculamos o desvio de nota que cada avaliação teve do valor médio.\n",
    "\n"
   ]
  },
  {
   "attachments": {},
   "cell_type": "markdown",
   "metadata": {},
   "source": [
    "* Tabela do João\n",
    "\n",
    "| João | Avaliação1 | Avaliação2 | Avaliação3 | Avaliação4 | Avaliação5 | Média |\n",
    "| :----: | :---: | :-------: | :-------: | :-------: | :-------: | :-------: |\n",
    "| Notas | 9     | 7     | 5     | 3 | 2 | 5.2 |\n",
    "| Desvio | 3.8 | 1.8 | 0.2 | -2.2 | -3.2 | 0 |  |\n",
    "\n",
    "* Tabela da Maria\n",
    "\n",
    "| Maria | Avaliação1 | Avaliação2 | Avaliação3 | Avaliação4 | Avaliação5 | Média |\n",
    "| :----: | :---: | :-------: | :-------: | :-------: | :-------: | :-------: |\n",
    "| Notas | 4 | 8 | 9 | 10 | 4 | 7 |\n",
    "| Desvio | -3 | 1 | 2 | 3 | -3 | 0 |"
   ]
  },
  {
   "attachments": {},
   "cell_type": "markdown",
   "metadata": {},
   "source": [
    "### Desvio ao quadrado (D²)\n",
    "Como vimos o valor do desvio pode ser negativo, para lidar com isso, vamos adicionar a nossas tabelas uma linha contendo o quadrado do Desvio:\n",
    "\n",
    "* Tabela do João\n",
    "\n",
    "| João | Avaliação1 | Avaliação2 | Avaliação3 | Avaliação4 | Avaliação5 | Média |\n",
    "| :----: | :---: | :-------: | :-------: | :-------: | :-------: | :-------: |\n",
    "| Notas | 9     | 7     | 5     | 3 | 2 | 5.2 |\n",
    "| Desvio| 3.8 | 1.8 | 0.2 | -2.2 | -3.2 | 0 |  |\n",
    "| $\\text{Desvio}^2$ | 14,44 | 3.24 | 0.04 | 4.84 | 10.24 | 0 |  |\n",
    "\n",
    "\n",
    "* Tabela da Maria\n",
    "\n",
    "| Maria | Avaliação1 | Avaliação2 | Avaliação3 | Avaliação4 | Avaliação5 | Média |\n",
    "| :----: | :---: | :-------: | :-------: | :-------: | :-------: | :-------: |\n",
    "| Notas | 4 | 8 | 9 | 10 | 4 | 7 |\n",
    "| Desvio| -3 | 1 | 2 | 3 | -3 | 0 |\n",
    "| $\\text{Desvio}^2$ | 9 | 1 | 4 | 9 | 9 | 0 |  |\n"
   ]
  },
  {
   "attachments": {},
   "cell_type": "markdown",
   "metadata": {},
   "source": [
    "### Variância (V)\n",
    "\n",
    "Para calcular a variância tomamos a média aritmética da linha dos desvios ao quadrado, ou seja:\n",
    "$$\\boxed{\\text{V} = \\sum \\frac{\\text{Desvio}^2}{\\text{número de elementos somados} }}\n",
    "$$"
   ]
  },
  {
   "attachments": {},
   "cell_type": "markdown",
   "metadata": {},
   "source": [
    "\n",
    "* Variância do João $$V\\text{(João)} = \\frac{14,44 + 3.24 + 0.04 + 4.84 + 10.24}{5} = 6.56 $$\n",
    "\n",
    "* Variância do Maria $$V\\text{(Maria)} = \\frac{9 + 1 + 4 + 9 + 9}{5} = 6.4 $$\n",
    "\n",
    "* Tabela do João\n",
    "\n",
    "| João | Avaliação1 | Avaliação2 | Avaliação3 | Avaliação4 | Avaliação5 | Média | Soma dos D^2 | Variância |\n",
    "| :----: | :---: | :-------: | :-------: | :-------: | :-------: | :-------: | :-------: | :-------: | \n",
    "| Notas | 9     | 7     | 5     | 3 | 2 | 5.2 |  | | |\n",
    "| Desvio| 3.8 | 1.8 | 0.2 | -2.2 | -3.2 | 0 |  |  | |\n",
    "| $\\text{Desvio}^2$ | 14,44 | 3.24 | 0.04 | 4.84 | 10.24 | 0 | 32.8 | 6.56 |\n",
    "\n",
    "\n",
    "* Tabela da Maria\n",
    "\n",
    "| Maria | Avaliação1 | Avaliação2 | Avaliação3 | Avaliação4 | Avaliação5 | Média | Soma dos D^2 | Variância |\n",
    "| :----: | :---: | :-------: | :-------: | :-------: | :-------: | :-------: | :-------: | :-------: |\n",
    "| Notas | 4 | 8 | 9 | 10 | 4 | 7 | | |\n",
    "| Desvio| -3 | 1 | 2 | 3 | -3 | 0 | | |\n",
    "| $\\text{Desvio}^2$ | 9 | 1 | 4 | 9 | 9 | 0 | 32 | 6.4|"
   ]
  },
  {
   "attachments": {},
   "cell_type": "markdown",
   "metadata": {},
   "source": [
    "### Desvio Padrão (DP)\n",
    "A expressão para calcular o desvio padrão é:\n",
    "$$ \\text{DP} = \\sqrt{V}$$\n",
    "Com mais esse valor completamos a tabela de cada aluno\n",
    "\n",
    "* Tabela do João\n",
    "\n",
    "| João | Avaliação1 | Avaliação2 | Avaliação3 | Avaliação4 | Avaliação5 | Média | Soma dos D^2 | Variância | Desvio Padrão |\n",
    "| :----: | :---: | :-------: | :-------: | :-------: | :-------: | :-------: | :-------: | :-------: | :-------: | \n",
    "| Notas | 9     | 7     | 5     | 3 | 2 | 5.2 |  | | | |\n",
    "| Desvio| 3.8 | 1.8 | 0.2 | -2.2 | -3.2 | 0 |  |  | | |\n",
    "| $\\text{Desvio}^2$ | 14,44 | 3.24 | 0.04 | 4.84 | 10.24 | 0 | 32.8 | 6.56 | 2,56|\n",
    "\n",
    "\n",
    "* Tabela da Maria\n",
    "\n",
    "| Maria | Avaliação1 | Avaliação2 | Avaliação3 | Avaliação4 | Avaliação5 | Média | Soma dos D^2 | Variância | Desvio Padrão |\n",
    "| :----: | :---: | :-------: | :-------: | :-------: | :-------: | :-------: | :-------: | :-------: | :-------: |\n",
    "| Notas | 4 | 8 | 9 | 10 | 4 | 7 | | | |\n",
    "| Desvio| -3 | 1 | 2 | 3 | -3 | 0 | | | |\n",
    "| $\\text{Desvio}^2$ | 9 | 1 | 4 | 9 | 9 | 0 | 32 | 6.4| 2.52 |"
   ]
  },
  {
   "attachments": {},
   "cell_type": "markdown",
   "metadata": {},
   "source": [
    "Como a média aritmética para passar de ano é 7, somente a Maria foi aprovada. Embora João tenha uma variância e desvio padrão muito semelhantes, essas quantidades descrevem a regularidade da variação das notas.\n",
    "\n",
    "##### Exercício\n",
    "\n",
    "Utilize códigos em fortran para preencher a tabela completa do Steve:\n",
    "\n",
    "* Tabela da Steve\n",
    "\n",
    "| Steve | Avaliação1 | Avaliação2 | Avaliação3 | Avaliação4 | Avaliação5 | Média | Soma dos D^2 | Variância | Desvio Padrão |\n",
    "| :----: | :---: | :-------: | :-------: | :-------: | :-------: | :-------: | :-------: | :-------: | :-------: |\n",
    "| Notas | 10 | 10 | 10 | 1 | 1 |  | | | |\n",
    "| Desvio|  |  |  |  |  |  | | | |\n",
    "| $\\text{Desvio}^2$ |  |  |  |  |  |  |  |  |  |"
   ]
  },
  {
   "cell_type": "code",
   "execution_count": null,
   "metadata": {
    "vscode": {
     "languageId": "plaintext"
    }
   },
   "outputs": [],
   "source": [
    "program Media\n",
    "    implicit none\n",
    "    integer i,C(5)\n",
    "    real :: soma\n",
    "    real med\n",
    "\n",
    "    write(*,*) \" Digite os valores consecutivamente\"\n",
    "    read *,C\n",
    "    soma = 0.0\n",
    "\n",
    "    do i=1,5\n",
    "        soma = soma + C(i)\n",
    "    enddo\n",
    "    med = soma / 5\n",
    "    print *,\" A média é = \", med \n",
    "end program Media"
   ]
  },
  {
   "cell_type": "code",
   "execution_count": null,
   "metadata": {
    "vscode": {
     "languageId": "plaintext"
    }
   },
   "outputs": [],
   "source": [
    "program desvio2\n",
    "    implicit none\n",
    "    real med, d, n, d2\n",
    "\n",
    "    write(*,*) \" Digite o valor da média\"\n",
    "    read *,med\n",
    "    \n",
    "    write(*,*) \" Digite a nota\"\n",
    "    read *,n\n",
    "    d = n-med    \n",
    "    d2 = d**2\n",
    "\n",
    "    print *,\" O desvio é = \", d\n",
    "    print *,\" O quadrado do desvio é = \", d2\n",
    "end program desvio2"
   ]
  },
  {
   "cell_type": "code",
   "execution_count": null,
   "metadata": {
    "vscode": {
     "languageId": "plaintext"
    }
   },
   "outputs": [],
   "source": [
    "program VarDesvioP\n",
    "    implicit none\n",
    "    integer i\n",
    "    real :: soma,C(5)\n",
    "    real med, dp\n",
    "\n",
    "    write(*,*) \" Digite os valores obtidos do desvio ao quadrado consecutivamente\"\n",
    "    read *,C\n",
    "    soma = 0.0\n",
    "\n",
    "    do i=1,5\n",
    "        soma = soma + C(i)\n",
    "    enddo\n",
    "    med = soma / 5\n",
    "    dp = SQRT(med)\n",
    "    print *,\" A soma dos quadrados dos desvios é = \", soma\n",
    "    print *,'================================'\n",
    "    print *,\" A variância é = \", med\n",
    "    print *,'================================'\n",
    "    print *,\" O desvio padrão é = \", dp\n",
    "\n",
    "end program VarDesvioP"
   ]
  },
  {
   "attachments": {},
   "cell_type": "markdown",
   "metadata": {},
   "source": [
    "* Tabela da Steve\n",
    "\n",
    "| Steve | Avaliação1 | Avaliação2 | Avaliação3 | Avaliação4 | Avaliação5 | Média | Soma dos D^2 | Variância | Desvio Padrão |\n",
    "| :----: | :---: | :-------: | :-------: | :-------: | :-------: | :-------: | :-------: | :-------: | :-------: |\n",
    "| Notas | 10 | 10 | 10 | 1 | 1 | 6.4 | | | |\n",
    "| Desvio| 3.6 | 3.6 | 3.6 | -5.4 | -5.4 | 0 | | | |\n",
    "| $\\text{Desvio}^2$ | 12.96 | 12.96 | 12.96 | 29,16 | 29,16 | 0 | 97.2 | 19.44| 4.40 |"
   ]
  },
  {
   "cell_type": "code",
   "execution_count": null,
   "metadata": {
    "vscode": {
     "languageId": "plaintext"
    }
   },
   "outputs": [],
   "source": []
  },
  {
   "cell_type": "markdown",
   "metadata": {},
   "source": []
  },
  {
   "cell_type": "markdown",
   "metadata": {},
   "source": []
  },
  {
   "cell_type": "markdown",
   "metadata": {},
   "source": []
  }
 ],
 "metadata": {
  "language_info": {
   "name": "python"
  },
  "orig_nbformat": 4
 },
 "nbformat": 4,
 "nbformat_minor": 2
}
