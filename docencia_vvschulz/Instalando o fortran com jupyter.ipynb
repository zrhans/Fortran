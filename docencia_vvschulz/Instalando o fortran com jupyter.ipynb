{
 "cells": [
  {
   "cell_type": "markdown",
   "id": "520ee5e4",
   "metadata": {},
   "source": [
    "# Instalação do lfortran\n"
   ]
  },
  {
   "cell_type": "markdown",
   "id": "f17caf33",
   "metadata": {},
   "source": [
    "Aqui é o link oficial da página.\n",
    "[Link original](https://docs.lfortran.org/en/installation/)\n",
    "\n",
    "Os comandos são:"
   ]
  },
  {
   "cell_type": "markdown",
   "id": "890c3e50",
   "metadata": {},
   "source": [
    "#### Se já tiver o anaconda instalado siga os passos:"
   ]
  },
  {
   "cell_type": "code",
   "execution_count": null,
   "id": "fc834228",
   "metadata": {},
   "outputs": [],
   "source": [
    "conda create -n lf"
   ]
  },
  {
   "cell_type": "code",
   "execution_count": null,
   "id": "ac5afa7c",
   "metadata": {},
   "outputs": [],
   "source": [
    "conda activate lf"
   ]
  },
  {
   "cell_type": "code",
   "execution_count": null,
   "id": "870a7f2b",
   "metadata": {},
   "outputs": [],
   "source": [
    "conda install lfortran -c conda-forge"
   ]
  },
  {
   "cell_type": "code",
   "execution_count": null,
   "id": "d27ed7bf",
   "metadata": {},
   "outputs": [],
   "source": [
    "conda install jupyter -c conda-forge"
   ]
  },
  {
   "attachments": {
    "image.png": {
     "image/png": "[encoded data removed]"
    }
   },
   "cell_type": "markdown",
   "id": "bf41397c",
   "metadata": {},
   "source": [
    "#### Se não tiver o Anaconda, instale\n",
    "\n",
    "Baixe o anaconda [Anaconda](https://repo.anaconda.com/archive/Anaconda3-2022.10-Linux-x86_64.sh)\n",
    "[Download here for ubuntu 22.04](https://repo.anaconda.com/archive/Anaconda3-2022.10-Linux-x86_64.sh)\n",
    "\n",
    "Em um terminal aberto na pasta que está o arquivo baixado, digite\n",
    "\n",
    " bash Anaconda e pressione tab que o terminal irá preencher o resto, conforme mostra a imagem\n",
    "\n",
    "![image.png](attachment:image.png)\n",
    "\n",
    "Depois vá pressionando enter para ler os termos e digitando yes quando for pedido!"
   ]
  },
  {
   "cell_type": "markdown",
   "id": "1427ff5e",
   "metadata": {},
   "source": [
    "### Depois que fizer essa instalação do lfortran\n",
    "\n",
    "É possível ver os ambientes jupyters criados abrindo um terminal e digitando:"
   ]
  },
  {
   "cell_type": "code",
   "execution_count": 4,
   "id": "546894f8",
   "metadata": {},
   "outputs": [
    {
     "name": "stdout",
     "output_type": "stream",
     "text": [
      "# conda environments:\n",
      "#\n",
      "base                     /home/v/anaconda3\n",
      "envp39                   /home/v/anaconda3/envs/envp39\n",
      "lf                    *  /home/v/anaconda3/envs/lf\n",
      "\n",
      "\n",
      "Note: you may need to restart the kernel to use updated packages.\n"
     ]
    }
   ],
   "source": [
    "conda info --envs"
   ]
  },
  {
   "cell_type": "markdown",
   "id": "8286eae5",
   "metadata": {},
   "source": [
    "## Para iniciar o jupyter usando fortran\n",
    "\n",
    "Em um terminal digite:"
   ]
  },
  {
   "cell_type": "code",
   "execution_count": null,
   "id": "0e13524f",
   "metadata": {
    "scrolled": true
   },
   "outputs": [],
   "source": [
    "conda activate lf"
   ]
  },
  {
   "cell_type": "code",
   "execution_count": null,
   "id": "d05ba928",
   "metadata": {},
   "outputs": [],
   "source": [
    "jupyter notebook "
   ]
  },
  {
   "cell_type": "markdown",
   "id": "e1cbb47a",
   "metadata": {},
   "source": [
    "## Para desativar o ambiente lf\n",
    "\n",
    "Digite em um terminal:"
   ]
  },
  {
   "cell_type": "code",
   "execution_count": null,
   "id": "c11ebae5",
   "metadata": {},
   "outputs": [],
   "source": [
    "conda d"
   ]
  }
 ],
 "metadata": {
  "kernelspec": {
   "display_name": "Python 3 (ipykernel)",
   "language": "python",
   "name": "python3"
  },
  "language_info": {
   "codemirror_mode": {
    "name": "ipython",
    "version": 3
   },
   "file_extension": ".py",
   "mimetype": "text/x-python",
   "name": "python",
   "nbconvert_exporter": "python",
   "pygments_lexer": "ipython3",
   "version": "3.11.0"
  }
 },
 "nbformat": 4,
 "nbformat_minor": 5
}
