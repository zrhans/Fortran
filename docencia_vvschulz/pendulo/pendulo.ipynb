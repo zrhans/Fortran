{
 "cells": [
  {
   "attachments": {},
   "cell_type": "markdown",
   "metadata": {},
   "source": [
    "# Pêndulo\n",
    "\n",
    "A análise de um pêndulo simples mostra que, para amplitudes menores que 15º, o movimento pode ser classificado como um Movimento Harmonico Simples (MHS).\n"
   ]
  },
  {
   "attachments": {},
   "cell_type": "markdown",
   "metadata": {},
   "source": [
    "o período (T) é o tempo que leva para completar o primeiro ciclo, e é dado por :\n",
    "$$\\begin{equation}\n",
    "T = 2\\pi\\sqrt{\\frac{L}{g}}\n",
    "\\end{equation}$$\n",
    "\n",
    "* Equação Fortran: T =  2 * pi * sqrt ( L / g)\n",
    "\n",
    "Precisa iterar (variar o valor de L ), imprimindo na tela o valor de L e o valor do novo período T, a cada iteração."
   ]
  },
  {
   "attachments": {},
   "cell_type": "markdown",
   "metadata": {},
   "source": [
    "## Implementação"
   ]
  },
  {
   "cell_type": "raw",
   "metadata": {},
   "source": [
    "program pendulo\n",
    "implicit none\n",
    "\n",
    "real, parameter :: pi = 3.14159, g = 9.8\n",
    "real :: periodo = 0 ! variaveis reais (ponto flutuante)\n",
    "integer :: l\n",
    "\n",
    "do 1 = 1, 50, 5\n",
    "    periodo = 2* pi * sqrt (l/g)\n",
    "    print*, \"L = \", l, \"período T = \", periodo\n",
    "end do\n",
    "\n",
    "end program"
   ]
  },
  {
   "attachments": {},
   "cell_type": "markdown",
   "metadata": {},
   "source": [
    "## Execução"
   ]
  },
  {
   "cell_type": "raw",
   "metadata": {},
   "source": [
    "gfortran -o pendulo [nome do arquivo].f90\n",
    "./pendulo"
   ]
  },
  {
   "attachments": {},
   "cell_type": "markdown",
   "metadata": {},
   "source": [
    "# Desafio \n",
    "Altere o programa dando a ele maior interatividade com o usuário e calculando também a frequência de oscilação para cada caso. \n",
    "* Suponha comprimento fixo de L, calcule o período e frequência em planetas hipotéticos em que as acelerações da gravidade sejam distintas!!"
   ]
  },
  {
   "attachments": {},
   "cell_type": "markdown",
   "metadata": {},
   "source": [
    "### CÁLCULO DO PERÍODO\n",
    "\n",
    "[Leitura adicional](https://wp.ufpel.edu.br/petfisica/files/2020/05/BE_P_ndulo_Simples.pdf)\n",
    "\n",
    "Considere os aspectos teóricos sobre Movimento Harmônico Simples.\n",
    "\n",
    "Faça um programa em Fortran para calcular o Período de oscilação de um pêndulo simples na superfície da terra para vários comprimentos de L."
   ]
  },
  {
   "cell_type": "markdown",
   "metadata": {},
   "source": []
  }
 ],
 "metadata": {
  "kernelspec": {
   "display_name": "Python 3",
   "language": "python",
   "name": "python3"
  },
  "language_info": {
   "name": "python",
   "version": "3.10.6 (main, Nov 14 2022, 16:10:14) [GCC 11.3.0]"
  },
  "orig_nbformat": 4,
  "vscode": {
   "interpreter": {
    "hash": "916dbcbb3f70747c44a77c7bcd40155683ae19c65e1c03b4aa3499c5328201f1"
   }
  }
 },
 "nbformat": 4,
 "nbformat_minor": 2
}
